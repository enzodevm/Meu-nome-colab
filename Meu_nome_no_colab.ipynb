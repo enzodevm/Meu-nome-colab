{
  "nbformat": 4,
  "nbformat_minor": 0,
  "metadata": {
    "colab": {
      "provenance": [],
      "authorship_tag": "ABX9TyNjQTAKJ56dj61SsebFsGpI",
      "include_colab_link": true
    },
    "kernelspec": {
      "name": "python3",
      "display_name": "Python 3"
    },
    "language_info": {
      "name": "python"
    }
  },
  "cells": [
    {
      "cell_type": "markdown",
      "metadata": {
        "id": "view-in-github",
        "colab_type": "text"
      },
      "source": [
        "<a href=\"https://colab.research.google.com/github/enzodevm/Meu-nome-colab/blob/main/Meu_nome_no_colab.ipynb\" target=\"_parent\"><img src=\"https://colab.research.google.com/assets/colab-badge.svg\" alt=\"Open In Colab\"/></a>"
      ]
    },
    {
      "cell_type": "code",
      "execution_count": null,
      "metadata": {
        "id": "RS9YGK8bGSHR"
      },
      "outputs": [],
      "source": [
        "nome = input(\"Seu nome\")\n",
        "input(f\"Olá {nome}\")"
      ]
    },
    {
      "cell_type": "code",
      "source": [
        "nome = input(\"Seu nome\")\n",
        "input(f\"Oiii{nome}\")\n",
        "print(\"meu nome:Enzo \")"
      ],
      "metadata": {
        "colab": {
          "base_uri": "https://localhost:8080/"
        },
        "id": "CKHqO1vZGpUT",
        "outputId": "1451a1b8-aca5-43a0-c64b-e72ca2943516"
      },
      "execution_count": null,
      "outputs": [
        {
          "output_type": "stream",
          "name": "stdout",
          "text": [
            "Seu nomewww\n",
            "Oiiiwww\n",
            "meu nome:Enzo \n"
          ]
        }
      ]
    }
  ]
}